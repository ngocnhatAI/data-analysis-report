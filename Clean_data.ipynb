{
 "cells": [
  {
   "cell_type": "code",
   "execution_count": null,
   "metadata": {},
   "outputs": [],
   "source": [
    "import numpy as np\n",
    "import pandas as pd\n",
    "import matplotlib.pyplot as plt\n",
    "import seaborn as sns"
   ]
  },
  {
   "cell_type": "code",
   "execution_count": 33,
   "metadata": {},
   "outputs": [],
   "source": [
    "raw_df = pd.read_csv('Data/unicef.csv')"
   ]
  },
  {
   "cell_type": "markdown",
   "metadata": {},
   "source": [
    "# Cleaning data"
   ]
  },
  {
   "cell_type": "markdown",
   "metadata": {},
   "source": [
    "    Loại bỏ dữ liệu trùng lặp"
   ]
  },
  {
   "cell_type": "code",
   "execution_count": 49,
   "metadata": {},
   "outputs": [],
   "source": [
    "raw_df.drop_duplicates(inplace= True)"
   ]
  },
  {
   "cell_type": "markdown",
   "metadata": {},
   "source": [
    "    Xóa các cột không cần thiết"
   ]
  },
  {
   "cell_type": "code",
   "execution_count": 36,
   "metadata": {},
   "outputs": [],
   "source": [
    "columns_drop = ['text', 'shared_text', 'original_text', 'timestamp', 'video_duration_seconds', 'video_height', 'video_quality',\n",
    "                   'video_size_MB', 'video_thumbnail', 'video_watches', 'video_width', 'likes', 'is_live', 'factcheck', 'shared_post_id', \n",
    "                   'shared_time', 'shared_user_id', 'shared_username', 'shared_post_url', 'with', 'sharers', 'was_live','fetched_time' ]  \n",
    "raw_df = raw_df.drop(columns_drop, axis=1)"
   ]
  },
  {
   "cell_type": "markdown",
   "metadata": {},
   "source": [
    "    Loại bỏ dữ liệu NaN "
   ]
  },
  {
   "cell_type": "code",
   "execution_count": 54,
   "metadata": {},
   "outputs": [],
   "source": [
    "raw_df.dropna(subset=['reactions'], inplace=True)"
   ]
  },
  {
   "cell_type": "markdown",
   "metadata": {},
   "source": [
    "    Check lại"
   ]
  },
  {
   "cell_type": "code",
   "execution_count": 58,
   "metadata": {},
   "outputs": [
    {
     "name": "stdout",
     "output_type": "stream",
     "text": [
      "<class 'pandas.core.frame.DataFrame'>\n",
      "Int64Index: 90 entries, 0 to 89\n",
      "Data columns (total 30 columns):\n",
      " #   Column                         Non-Null Count  Dtype  \n",
      "---  ------                         --------------  -----  \n",
      " 0   post_id                        90 non-null     int64  \n",
      " 1   post_text                      90 non-null     object \n",
      " 2   time                           90 non-null     object \n",
      " 3   image                          32 non-null     object \n",
      " 4   image_lowquality               90 non-null     object \n",
      " 5   images                         90 non-null     object \n",
      " 6   images_description             90 non-null     object \n",
      " 7   images_lowquality              90 non-null     object \n",
      " 8   images_lowquality_description  90 non-null     object \n",
      " 9   video                          30 non-null     object \n",
      " 10  video_id                       30 non-null     float64\n",
      " 11  comments                       90 non-null     int64  \n",
      " 12  shares                         90 non-null     int64  \n",
      " 13  post_url                       90 non-null     object \n",
      " 14  link                           41 non-null     object \n",
      " 15  links                          90 non-null     object \n",
      " 16  user_id                        90 non-null     int64  \n",
      " 17  username                       90 non-null     object \n",
      " 18  user_url                       90 non-null     object \n",
      " 19  available                      90 non-null     bool   \n",
      " 20  comments_full                  90 non-null     object \n",
      " 21  reactors                       90 non-null     object \n",
      " 22  w3_fb_url                      90 non-null     object \n",
      " 23  reactions                      90 non-null     object \n",
      " 24  reaction_count                 90 non-null     int64  \n",
      " 25  page_id                        90 non-null     int64  \n",
      " 26  image_id                       18 non-null     float64\n",
      " 27  image_ids                      90 non-null     object \n",
      " 28  video_ids                      14 non-null     object \n",
      " 29  videos                         14 non-null     object \n",
      "dtypes: bool(1), float64(2), int64(6), object(21)\n",
      "memory usage: 21.2+ KB\n"
     ]
    }
   ],
   "source": [
    "raw_df.info()"
   ]
  }
 ],
 "metadata": {
  "kernelspec": {
   "display_name": "base",
   "language": "python",
   "name": "python3"
  },
  "language_info": {
   "codemirror_mode": {
    "name": "ipython",
    "version": 3
   },
   "file_extension": ".py",
   "mimetype": "text/x-python",
   "name": "python",
   "nbconvert_exporter": "python",
   "pygments_lexer": "ipython3",
   "version": "3.11.4"
  }
 },
 "nbformat": 4,
 "nbformat_minor": 2
}
