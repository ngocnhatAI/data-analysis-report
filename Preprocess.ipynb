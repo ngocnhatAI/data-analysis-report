{
 "cells": [
  {
   "cell_type": "markdown",
   "metadata": {},
   "source": [
    "# Tiền xử lý dữ liệu từ dữ liệu đã được làm sạch"
   ]
  },
  {
   "cell_type": "markdown",
   "metadata": {},
   "source": [
    "    Import required library"
   ]
  },
  {
   "cell_type": "code",
   "execution_count": 116,
   "metadata": {},
   "outputs": [],
   "source": [
    "import pandas as pd\n",
    "import numpy as np\n",
    "from pprint import pprint\n",
    "import json\n",
    "import re\n",
    "import datetime"
   ]
  },
  {
   "cell_type": "markdown",
   "metadata": {},
   "source": [
    "# Định dạng lại dữ liệu trong cột "
   ]
  },
  {
   "cell_type": "markdown",
   "metadata": {},
   "source": [
    "    Chuyển đổi chuỗi thời gian thành kiểu datetime"
   ]
  },
  {
   "cell_type": "code",
   "execution_count": 117,
   "metadata": {},
   "outputs": [],
   "source": [
    "df = pd.read_csv('Data/clean_data.csv')"
   ]
  },
  {
   "cell_type": "code",
   "execution_count": 118,
   "metadata": {},
   "outputs": [],
   "source": [
    "df['time'] = pd.to_datetime(df['time'])"
   ]
  },
  {
   "cell_type": "markdown",
   "metadata": {},
   "source": [
    "    Chuyển đổi dữ liệu cột image và video thành kiểu boolean    "
   ]
  },
  {
   "cell_type": "code",
   "execution_count": 119,
   "metadata": {},
   "outputs": [],
   "source": [
    "df['image'] = df['image'].notna()\n",
    "df['video'] = df['video'].notna()"
   ]
  },
  {
   "cell_type": "markdown",
   "metadata": {},
   "source": [
    "# Tách cột comments thành một dataframe"
   ]
  },
  {
   "cell_type": "code",
   "execution_count": 120,
   "metadata": {},
   "outputs": [],
   "source": [
    "def get_comments(text):\n",
    "    # Regular expression to extract JSON-like comment objects\n",
    "    pattern = r\"\\{[^{}]*\\}\"\n",
    "    matches = re.findall(pattern, text)\n",
    "    result = []\n",
    "    for match in matches:\n",
    "        try:\n",
    "            # Safely parse the string as JSON\n",
    "            parsed_comment = json.loads(match.replace(\"'\", \"\\\"\"))\n",
    "            result.append(parsed_comment)\n",
    "        except json.JSONDecodeError:\n",
    "            # Handle possible JSON parsing errors\n",
    "            continue\n",
    "    return result\n",
    "def create_comments_frame(df):\n",
    "    df_result = {\n",
    "        \"comment_id\": [],\n",
    "        \"commenter_id\": [],\n",
    "        \"comment_text\": [],\n",
    "        \"post_id\": [],\n",
    "    }\n",
    "\n",
    "    new_df = df[~df[\"comments_full\"].isna()]\n",
    "    for index, row in new_df.iterrows():\n",
    "        comments = get_comments(row[\"comments_full\"])\n",
    "        for comment in comments:\n",
    "            try:\n",
    "                df_result[\"comment_id\"].append(comment.get(\"comment_id\", \"\"))\n",
    "                df_result[\"comment_text\"].append(comment.get(\"comment_text\", \"\"))\n",
    "                df_result[\"commenter_id\"].append(comment.get(\"commenter_id\", \"\"))\n",
    "                df_result[\"post_id\"].append(row.post_id)\n",
    "            except KeyError:\n",
    "                # Handle missing keys in the comment dictionary\n",
    "                continue\n",
    "    return pd.DataFrame(df_result)\n",
    "# Create the comments DataFrame\n",
    "Comment_frame = create_comments_frame(df)"
   ]
  },
  {
   "cell_type": "markdown",
   "metadata": {},
   "source": [
    "    Xóa cột comment trong dataframe ban đầu "
   ]
  },
  {
   "cell_type": "code",
   "execution_count": 121,
   "metadata": {},
   "outputs": [],
   "source": [
    "df = df.drop(columns='comments_full', axis = 1)"
   ]
  },
  {
   "cell_type": "markdown",
   "metadata": {},
   "source": [
    "# Thêm các cột cần thiết"
   ]
  },
  {
   "cell_type": "markdown",
   "metadata": {},
   "source": [
    "    Thêm cột post_length biểu thị độ dài của bài đăng"
   ]
  },
  {
   "cell_type": "code",
   "execution_count": 122,
   "metadata": {},
   "outputs": [],
   "source": [
    "# Calculating the length of each post\n",
    "df['post_length'] = df['post_text'].str.len()"
   ]
  },
  {
   "cell_type": "markdown",
   "metadata": {},
   "source": [
    "    Thêm cột content_type xác định bài đăng chỉ chứa ảnh hoặc chỉ chứa video hoặc chứa cả 2 hoặc không chứa gì"
   ]
  },
  {
   "cell_type": "code",
   "execution_count": 123,
   "metadata": {},
   "outputs": [],
   "source": [
    "# Define a function to categorize each post based on its content\n",
    "def categorize_post(row):\n",
    "    if row['image'] and row['video']:\n",
    "        return 'Image and Video'\n",
    "    elif row['image']:\n",
    "        return 'Image Only'\n",
    "    elif row['video']:\n",
    "        return 'Video Only'\n",
    "    else:\n",
    "        return 'Neither'\n",
    "# Apply the function to each row\n",
    "df['content_type'] = df.apply(categorize_post, axis=1)"
   ]
  },
  {
   "cell_type": "markdown",
   "metadata": {},
   "source": [
    "    Thêm cột hour xác định bài viết được đăng vào mấy giờ "
   ]
  },
  {
   "cell_type": "code",
   "execution_count": 124,
   "metadata": {},
   "outputs": [],
   "source": [
    "df['hour'] = df['time'].dt.hour"
   ]
  },
  {
   "cell_type": "markdown",
   "metadata": {},
   "source": [
    "    Thêm cột day_of_week xác định bài viết được đăng vào thứ mấy trong tuần "
   ]
  },
  {
   "cell_type": "code",
   "execution_count": 125,
   "metadata": {},
   "outputs": [],
   "source": [
    "df['day_of_week'] = df['time'].dt.day_name()"
   ]
  },
  {
   "cell_type": "markdown",
   "metadata": {},
   "source": [
    "# Lưu dataframe comment thành file csv "
   ]
  },
  {
   "cell_type": "code",
   "execution_count": 126,
   "metadata": {},
   "outputs": [],
   "source": [
    "Comment_frame.to_csv(\"Data/Comments.csv\", index=False)\n",
    "df.to_csv('Data/perfect_data.csv', index = False)"
   ]
  },
  {
   "cell_type": "code",
   "execution_count": 127,
   "metadata": {},
   "outputs": [
    {
     "name": "stdout",
     "output_type": "stream",
     "text": [
      "<class 'pandas.core.frame.DataFrame'>\n",
      "RangeIndex: 90 entries, 0 to 89\n",
      "Data columns (total 13 columns):\n",
      " #   Column          Non-Null Count  Dtype         \n",
      "---  ------          --------------  -----         \n",
      " 0   post_id         90 non-null     int64         \n",
      " 1   post_text       90 non-null     object        \n",
      " 2   time            90 non-null     datetime64[ns]\n",
      " 3   image           90 non-null     bool          \n",
      " 4   video           90 non-null     bool          \n",
      " 5   comments        90 non-null     int64         \n",
      " 6   shares          90 non-null     int64         \n",
      " 7   reactions       90 non-null     object        \n",
      " 8   reaction_count  90 non-null     int64         \n",
      " 9   post_length     90 non-null     int64         \n",
      " 10  content_type    90 non-null     object        \n",
      " 11  hour            90 non-null     int64         \n",
      " 12  day_of_week     90 non-null     object        \n",
      "dtypes: bool(2), datetime64[ns](1), int64(6), object(4)\n",
      "memory usage: 8.0+ KB\n"
     ]
    }
   ],
   "source": [
    "df.info()"
   ]
  }
 ],
 "metadata": {
  "kernelspec": {
   "display_name": "base",
   "language": "python",
   "name": "python3"
  },
  "language_info": {
   "codemirror_mode": {
    "name": "ipython",
    "version": 3
   },
   "file_extension": ".py",
   "mimetype": "text/x-python",
   "name": "python",
   "nbconvert_exporter": "python",
   "pygments_lexer": "ipython3",
   "version": "3.11.4"
  }
 },
 "nbformat": 4,
 "nbformat_minor": 2
}
