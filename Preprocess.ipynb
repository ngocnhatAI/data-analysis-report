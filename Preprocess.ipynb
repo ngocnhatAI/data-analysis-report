{
 "cells": [
  {
   "cell_type": "markdown",
   "metadata": {},
   "source": [
    "# Tiền xử lý dữ liệu từ dữ liệu đã được làm sạch"
   ]
  },
  {
   "cell_type": "markdown",
   "metadata": {},
   "source": [
    "    Import required library"
   ]
  },
  {
   "cell_type": "code",
   "execution_count": 26,
   "metadata": {},
   "outputs": [],
   "source": [
    "import pandas as pd\n",
    "import numpy as np\n",
    "from pprint import pprint\n",
    "import json\n",
    "import re\n",
    "import datetime"
   ]
  },
  {
   "cell_type": "markdown",
   "metadata": {},
   "source": [
    "# Định dạng lại dữ liệu trong cột "
   ]
  },
  {
   "cell_type": "markdown",
   "metadata": {},
   "source": [
    "    Chuyển đổi chuỗi thời gian thành kiểu datetime"
   ]
  },
  {
   "cell_type": "code",
   "execution_count": 27,
   "metadata": {},
   "outputs": [],
   "source": [
    "df = pd.read_csv('Data/clean_data.csv')"
   ]
  },
  {
   "cell_type": "code",
   "execution_count": 28,
   "metadata": {},
   "outputs": [],
   "source": [
    "df['time'] = pd.to_datetime(df['time'])"
   ]
  },
  {
   "cell_type": "markdown",
   "metadata": {},
   "source": [
    "    Chuyển đổi dữ liệu cột image và video thành kiểu boolean    "
   ]
  },
  {
   "cell_type": "code",
   "execution_count": 29,
   "metadata": {},
   "outputs": [],
   "source": [
    "df['image'] = df['image'].notna()\n",
    "df['video'] = df['video'].notna()"
   ]
  },
  {
   "cell_type": "markdown",
   "metadata": {},
   "source": [
    "# Thêm các cột cần thiết"
   ]
  },
  {
   "cell_type": "markdown",
   "metadata": {},
   "source": [
    "    Thêm cột post_length biểu thị độ dài của bài đăng"
   ]
  },
  {
   "cell_type": "code",
   "execution_count": 30,
   "metadata": {},
   "outputs": [],
   "source": [
    "# Calculating the length of each post\n",
    "df['post_length'] = df['post_text'].str.len()"
   ]
  },
  {
   "cell_type": "markdown",
   "metadata": {},
   "source": [
    "    Thêm cột content_type xác định bài đăng chỉ chứa ảnh hoặc chỉ chứa video hoặc chứa cả 2 hoặc không chứa gì"
   ]
  },
  {
   "cell_type": "code",
   "execution_count": 31,
   "metadata": {},
   "outputs": [],
   "source": [
    "# Define a function to categorize each post based on its content\n",
    "def categorize_post(row):\n",
    "    if row['image'] and row['video']:\n",
    "        return 'Image and Video'\n",
    "    elif row['image']:\n",
    "        return 'Image Only'\n",
    "    elif row['video']:\n",
    "        return 'Video Only'\n",
    "    else:\n",
    "        return 'Neither'\n",
    "# Apply the function to each row\n",
    "df['content_type'] = df.apply(categorize_post, axis=1)"
   ]
  },
  {
   "cell_type": "markdown",
   "metadata": {},
   "source": [
    "    Thêm cột hour xác định bài viết được đăng vào mấy giờ "
   ]
  },
  {
   "cell_type": "code",
   "execution_count": 32,
   "metadata": {},
   "outputs": [],
   "source": [
    "df['hour'] = df['time'].dt.hour"
   ]
  },
  {
   "cell_type": "markdown",
   "metadata": {},
   "source": [
    "    Thêm cột day_of_week xác định bài viết được đăng vào thứ mấy trong tuần "
   ]
  },
  {
   "cell_type": "code",
   "execution_count": 33,
   "metadata": {},
   "outputs": [],
   "source": [
    "df['day_of_week'] = df['time'].dt.day_name()"
   ]
  },
  {
   "cell_type": "markdown",
   "metadata": {},
   "source": [
    "# Lưu dataframe thành file csv "
   ]
  },
  {
   "cell_type": "code",
   "execution_count": 34,
   "metadata": {},
   "outputs": [],
   "source": [
    "df.to_csv('Data/perfect_data.csv', index = False)"
   ]
  },
  {
   "cell_type": "code",
   "execution_count": 35,
   "metadata": {},
   "outputs": [
    {
     "name": "stdout",
     "output_type": "stream",
     "text": [
      "<class 'pandas.core.frame.DataFrame'>\n",
      "RangeIndex: 90 entries, 0 to 89\n",
      "Data columns (total 13 columns):\n",
      " #   Column          Non-Null Count  Dtype         \n",
      "---  ------          --------------  -----         \n",
      " 0   post_id         90 non-null     int64         \n",
      " 1   post_text       90 non-null     object        \n",
      " 2   time            90 non-null     datetime64[ns]\n",
      " 3   image           90 non-null     bool          \n",
      " 4   video           90 non-null     bool          \n",
      " 5   comments        90 non-null     int64         \n",
      " 6   shares          90 non-null     int64         \n",
      " 7   reactions       90 non-null     object        \n",
      " 8   reaction_count  90 non-null     int64         \n",
      " 9   post_length     90 non-null     int64         \n",
      " 10  content_type    90 non-null     object        \n",
      " 11  hour            90 non-null     int64         \n",
      " 12  day_of_week     90 non-null     object        \n",
      "dtypes: bool(2), datetime64[ns](1), int64(6), object(4)\n",
      "memory usage: 8.0+ KB\n"
     ]
    }
   ],
   "source": [
    "df.info()"
   ]
  }
 ],
 "metadata": {
  "kernelspec": {
   "display_name": "base",
   "language": "python",
   "name": "python3"
  },
  "language_info": {
   "codemirror_mode": {
    "name": "ipython",
    "version": 3
   },
   "file_extension": ".py",
   "mimetype": "text/x-python",
   "name": "python",
   "nbconvert_exporter": "python",
   "pygments_lexer": "ipython3",
   "version": "3.11.4"
  }
 },
 "nbformat": 4,
 "nbformat_minor": 2
}
