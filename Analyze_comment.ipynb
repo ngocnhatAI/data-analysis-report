{
 "cells": [
  {
   "cell_type": "markdown",
   "metadata": {},
   "source": [
    "# Import all required library"
   ]
  },
  {
   "cell_type": "code",
   "execution_count": null,
   "metadata": {},
   "outputs": [],
   "source": [
    "%pip install matplotlib pandas numpy seaborn wordcloud"
   ]
  },
  {
   "cell_type": "code",
   "execution_count": 1,
   "metadata": {},
   "outputs": [],
   "source": [
    "import numpy as np\n",
    "import pandas as pd\n",
    "import matplotlib.pyplot as plt\n",
    "import seaborn as sns\n",
    "import facebook_scraper as fs"
   ]
  },
  {
   "cell_type": "markdown",
   "metadata": {},
   "source": [
    "# Craw comment data"
   ]
  },
  {
   "cell_type": "code",
   "execution_count": 3,
   "metadata": {},
   "outputs": [],
   "source": [
    "raw_df = pd.read_csv('Data/perfect_data.csv')\n",
    "post_ids_comment = np.array(raw_df.loc[raw_df['image'] == True, 'post_id'])"
   ]
  },
  {
   "cell_type": "code",
   "execution_count": null,
   "metadata": {},
   "outputs": [],
   "source": [
    "# Danh sách để lưu trữ dữ liệu comment\n",
    "all_comments = []\n",
    "\n",
    "for post_id in post_ids_comment:\n",
    "    gen = fs.get_posts(\n",
    "        post_urls=[post_id],\n",
    "        options={\"comments\": True, \"progress\": True}\n",
    "    )\n",
    "    post = next(gen)\n",
    "    comments = post['comments_full']\n",
    "    \n",
    "    # Thu thập thông tin từ mỗi comment và thêm vào danh sách all_comments\n",
    "    for comment in comments:\n",
    "        comment_data = {\n",
    "            'post_id': post_id,\n",
    "            'comment_id': comment['comment_id'],\n",
    "            'comment_url': comment['comment_url'],\n",
    "            'commenter_id': comment['commenter_id'],\n",
    "            'commenter_name': comment['commenter_name'],\n",
    "            'comment_text': comment['comment_text']\n",
    "        }\n",
    "        all_comments.append(comment_data)\n",
    "\n",
    "# Tạo DataFrame từ danh sách all_comments\n",
    "df_comments = pd.DataFrame(all_comments)\n",
    "\n",
    "# Lưu DataFrame vào file CSV\n",
    "df_comments.to_csv('Data/comments.csv', index=False)\n"
   ]
  },
  {
   "cell_type": "markdown",
   "metadata": {},
   "source": [
    "# Comment analysis"
   ]
  }
 ],
 "metadata": {
  "kernelspec": {
   "display_name": "base",
   "language": "python",
   "name": "python3"
  },
  "language_info": {
   "codemirror_mode": {
    "name": "ipython",
    "version": 3
   },
   "file_extension": ".py",
   "mimetype": "text/x-python",
   "name": "python",
   "nbconvert_exporter": "python",
   "pygments_lexer": "ipython3",
   "version": "3.11.4"
  }
 },
 "nbformat": 4,
 "nbformat_minor": 2
}
